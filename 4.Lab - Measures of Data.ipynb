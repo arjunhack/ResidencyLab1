{
 "cells": [
  {
   "cell_type": "markdown",
   "metadata": {},
   "source": [
    "## Lab Brief - Statistical Learning with Python"
   ]
  },
  {
   "cell_type": "markdown",
   "metadata": {},
   "source": [
    "### Part-1"
   ]
  },
  {
   "cell_type": "markdown",
   "metadata": {},
   "source": [
    "## Measures of Data"
   ]
  },
  {
   "cell_type": "markdown",
   "metadata": {},
   "source": [
    "Descriptive Statistcs are measures that summarize important features of data. Producing these descriptive statistics is a common first step to take after cleaning and preparing a dataset for further analysis. Examples are like calculating Mean or Median. In this lab, we will be looking into some of these functions and explore several new ones."
   ]
  },
  {
   "cell_type": "markdown",
   "metadata": {},
   "source": [
    "#### Measures of Central Tendency"
   ]
  },
  {
   "cell_type": "markdown",
   "metadata": {},
   "source": [
    "Whenever you measure things of the same kind, a fairly large number of such measurements will tend to cluster around the middle value. Such a value is called a measure of \"Central Tendency\". The other terms that are used synonymously are \"Measures of Location\", or \"Statistical Averages\". "
   ]
  },
  {
   "cell_type": "code",
   "execution_count": 1,
   "metadata": {},
   "outputs": [],
   "source": [
    "import numpy as np\n",
    "import pandas as pd\n",
    "import matplotlib.pyplot as plt\n",
    "\n",
    "mtcars = pd.read_csv('mtcars.csv')"
   ]
  },
  {
   "cell_type": "markdown",
   "metadata": {},
   "source": [
    "##### Using the mtcars dataset.\n",
    "\n",
    "For the below set of questions, we will be using the cars data from [Motor Trend Car Road Tests](http://stat.ethz.ch/R-manual/R-devel/library/datasets/html/mtcars.html)\n",
    "\n",
    "The data was extracted from the 1974 Motor Trend US magazine, and comprises fuel consumption and 10 aspects of automobile design and performance for 32 automobiles (1973–74 models). \n",
    "\n",
    "\n",
    "Details :\n",
    "    \n",
    "A data frame with 32 observations on 11 (numeric) variables.\n",
    "\n",
    "[, 1] \tmpg \tMiles/(US) gallon\n",
    "\n",
    "[, 2] \tcyl \tNumber of cylinders\n",
    "\n",
    "[, 3] \tdisp \tDisplacement (cu.in.)\n",
    "\n",
    "[, 4] \thp \tGross horsepower\n",
    "\n",
    "[, 5] \tdrat \tRear axle ratio\n",
    "\n",
    "[, 6] \twt \tWeight (1000 lbs)\n",
    "\n",
    "[, 7] \tqsec \t1/4 mile time\n",
    "\n",
    "[, 8] \tvs \tEngine (0 = V-shaped, 1 = straight)\n",
    "\n",
    "[, 9] \tam \tTransmission (0 = automatic, 1 = manual)\n",
    "\n",
    "[,10] \tgear \tNumber of forward gears\n",
    "\n",
    "[,11] \tcarb \tNumber of carburetors "
   ]
  },
  {
   "cell_type": "markdown",
   "metadata": {},
   "source": [
    "#### Explore the data - Setting the index"
   ]
  },
  {
   "cell_type": "code",
   "execution_count": 2,
   "metadata": {},
   "outputs": [
    {
     "data": {
      "text/html": [
       "<div>\n",
       "<style scoped>\n",
       "    .dataframe tbody tr th:only-of-type {\n",
       "        vertical-align: middle;\n",
       "    }\n",
       "\n",
       "    .dataframe tbody tr th {\n",
       "        vertical-align: top;\n",
       "    }\n",
       "\n",
       "    .dataframe thead th {\n",
       "        text-align: right;\n",
       "    }\n",
       "</style>\n",
       "<table border=\"1\" class=\"dataframe\">\n",
       "  <thead>\n",
       "    <tr style=\"text-align: right;\">\n",
       "      <th></th>\n",
       "      <th>name</th>\n",
       "      <th>mpg</th>\n",
       "      <th>cyl</th>\n",
       "      <th>disp</th>\n",
       "      <th>hp</th>\n",
       "      <th>drat</th>\n",
       "      <th>wt</th>\n",
       "      <th>qsec</th>\n",
       "      <th>vs</th>\n",
       "      <th>am</th>\n",
       "      <th>gear</th>\n",
       "      <th>carb</th>\n",
       "    </tr>\n",
       "    <tr>\n",
       "      <th>name</th>\n",
       "      <th></th>\n",
       "      <th></th>\n",
       "      <th></th>\n",
       "      <th></th>\n",
       "      <th></th>\n",
       "      <th></th>\n",
       "      <th></th>\n",
       "      <th></th>\n",
       "      <th></th>\n",
       "      <th></th>\n",
       "      <th></th>\n",
       "      <th></th>\n",
       "    </tr>\n",
       "  </thead>\n",
       "  <tbody>\n",
       "    <tr>\n",
       "      <th>Mazda RX4</th>\n",
       "      <td>Mazda RX4</td>\n",
       "      <td>21.0</td>\n",
       "      <td>6</td>\n",
       "      <td>160.0</td>\n",
       "      <td>110</td>\n",
       "      <td>3.90</td>\n",
       "      <td>2.620</td>\n",
       "      <td>16.46</td>\n",
       "      <td>0</td>\n",
       "      <td>1</td>\n",
       "      <td>4</td>\n",
       "      <td>4</td>\n",
       "    </tr>\n",
       "    <tr>\n",
       "      <th>Mazda RX4 Wag</th>\n",
       "      <td>Mazda RX4 Wag</td>\n",
       "      <td>21.0</td>\n",
       "      <td>6</td>\n",
       "      <td>160.0</td>\n",
       "      <td>110</td>\n",
       "      <td>3.90</td>\n",
       "      <td>2.875</td>\n",
       "      <td>17.02</td>\n",
       "      <td>0</td>\n",
       "      <td>1</td>\n",
       "      <td>4</td>\n",
       "      <td>4</td>\n",
       "    </tr>\n",
       "    <tr>\n",
       "      <th>Datsun 710</th>\n",
       "      <td>Datsun 710</td>\n",
       "      <td>22.8</td>\n",
       "      <td>4</td>\n",
       "      <td>108.0</td>\n",
       "      <td>93</td>\n",
       "      <td>3.85</td>\n",
       "      <td>2.320</td>\n",
       "      <td>18.61</td>\n",
       "      <td>1</td>\n",
       "      <td>1</td>\n",
       "      <td>4</td>\n",
       "      <td>1</td>\n",
       "    </tr>\n",
       "    <tr>\n",
       "      <th>Hornet 4 Drive</th>\n",
       "      <td>Hornet 4 Drive</td>\n",
       "      <td>21.4</td>\n",
       "      <td>6</td>\n",
       "      <td>258.0</td>\n",
       "      <td>110</td>\n",
       "      <td>3.08</td>\n",
       "      <td>3.215</td>\n",
       "      <td>19.44</td>\n",
       "      <td>1</td>\n",
       "      <td>0</td>\n",
       "      <td>3</td>\n",
       "      <td>1</td>\n",
       "    </tr>\n",
       "    <tr>\n",
       "      <th>Hornet Sportabout</th>\n",
       "      <td>Hornet Sportabout</td>\n",
       "      <td>18.7</td>\n",
       "      <td>8</td>\n",
       "      <td>360.0</td>\n",
       "      <td>175</td>\n",
       "      <td>3.15</td>\n",
       "      <td>3.440</td>\n",
       "      <td>17.02</td>\n",
       "      <td>0</td>\n",
       "      <td>0</td>\n",
       "      <td>3</td>\n",
       "      <td>2</td>\n",
       "    </tr>\n",
       "  </tbody>\n",
       "</table>\n",
       "</div>"
      ],
      "text/plain": [
       "                                name   mpg  cyl   disp   hp  drat     wt  \\\n",
       "name                                                                       \n",
       "Mazda RX4                  Mazda RX4  21.0    6  160.0  110  3.90  2.620   \n",
       "Mazda RX4 Wag          Mazda RX4 Wag  21.0    6  160.0  110  3.90  2.875   \n",
       "Datsun 710                Datsun 710  22.8    4  108.0   93  3.85  2.320   \n",
       "Hornet 4 Drive        Hornet 4 Drive  21.4    6  258.0  110  3.08  3.215   \n",
       "Hornet Sportabout  Hornet Sportabout  18.7    8  360.0  175  3.15  3.440   \n",
       "\n",
       "                    qsec  vs  am  gear  carb  \n",
       "name                                          \n",
       "Mazda RX4          16.46   0   1     4     4  \n",
       "Mazda RX4 Wag      17.02   0   1     4     4  \n",
       "Datsun 710         18.61   1   1     4     1  \n",
       "Hornet 4 Drive     19.44   1   0     3     1  \n",
       "Hornet Sportabout  17.02   0   0     3     2  "
      ]
     },
     "execution_count": 2,
     "metadata": {},
     "output_type": "execute_result"
    }
   ],
   "source": [
    "mtcars.index = mtcars[\"name\"]\n",
    "mtcars.head()\n",
    "# mtcars.mean() #By default this will give the mean of each column"
   ]
  },
  {
   "cell_type": "markdown",
   "metadata": {},
   "source": [
    "### Question 1\n",
    "\n",
    "What is the first car name given in mtcars?\n",
    "\n",
    "** Make use of index which has been set previously **\n",
    "\n",
    "**Hint**: Use .loc function\n"
   ]
  },
  {
   "cell_type": "code",
   "execution_count": 14,
   "metadata": {
    "scrolled": true
   },
   "outputs": [
    {
     "data": {
      "text/plain": [
       "'Mazda RX4'"
      ]
     },
     "execution_count": 14,
     "metadata": {},
     "output_type": "execute_result"
    }
   ],
   "source": [
    "mtcars.loc['Mazda RX4','name']"
   ]
  },
  {
   "cell_type": "markdown",
   "metadata": {},
   "source": [
    "### Question 2\n",
    "What is the highest difference between the hp and cyl?\n",
    "\n",
    "**Hint:** You can use **max()** function to find the difference"
   ]
  },
  {
   "cell_type": "code",
   "execution_count": 19,
   "metadata": {},
   "outputs": [
    {
     "data": {
      "text/plain": [
       "331"
      ]
     },
     "execution_count": 19,
     "metadata": {},
     "output_type": "execute_result"
    }
   ],
   "source": [
    "max(mtcars.loc[:,'hp'])-min(mtcars.loc[:,'cyl'])"
   ]
  },
  {
   "cell_type": "markdown",
   "metadata": {},
   "source": [
    "### Question 3\n",
    "What are the cars having highest weight(wt) and lowest weight(wt)?\n",
    "\n",
    "**Hint:** Use idxmax() and idxmin() to locate the row\n",
    "\n",
    "Use **.iloc** function to print the  row\n",
    "\n",
    "**Note:** Both idxmax and idxmin belong to pandas"
   ]
  },
  {
   "cell_type": "code",
   "execution_count": 45,
   "metadata": {},
   "outputs": [],
   "source": [
    "s=pd.DataFrame(mtcars)\n"
   ]
  },
  {
   "cell_type": "code",
   "execution_count": 30,
   "metadata": {},
   "outputs": [
    {
     "data": {
      "text/plain": [
       "'Lincoln Continental'"
      ]
     },
     "execution_count": 30,
     "metadata": {},
     "output_type": "execute_result"
    }
   ],
   "source": [
    "s['wt'].idxmax()"
   ]
  },
  {
   "cell_type": "code",
   "execution_count": 36,
   "metadata": {},
   "outputs": [
    {
     "data": {
      "text/plain": [
       "name    Lincoln Continental\n",
       "mpg                    10.4\n",
       "cyl                       8\n",
       "disp                    460\n",
       "hp                      215\n",
       "drat                      3\n",
       "wt                    5.424\n",
       "qsec                  17.82\n",
       "vs                        0\n",
       "am                        0\n",
       "gear                      3\n",
       "carb                      4\n",
       "Name: Lincoln Continental, dtype: object"
      ]
     },
     "execution_count": 36,
     "metadata": {},
     "output_type": "execute_result"
    }
   ],
   "source": [
    "s.iloc[s.index.get_loc(s['wt'].idxmax())]"
   ]
  },
  {
   "cell_type": "code",
   "execution_count": 31,
   "metadata": {},
   "outputs": [
    {
     "data": {
      "text/plain": [
       "'Lotus Europa'"
      ]
     },
     "execution_count": 31,
     "metadata": {},
     "output_type": "execute_result"
    }
   ],
   "source": [
    "s['wt'].idxmin()"
   ]
  },
  {
   "cell_type": "code",
   "execution_count": 37,
   "metadata": {},
   "outputs": [
    {
     "data": {
      "text/plain": [
       "name    Lotus Europa\n",
       "mpg             30.4\n",
       "cyl                4\n",
       "disp            95.1\n",
       "hp               113\n",
       "drat            3.77\n",
       "wt             1.513\n",
       "qsec            16.9\n",
       "vs                 1\n",
       "am                 1\n",
       "gear               5\n",
       "carb               2\n",
       "Name: Lotus Europa, dtype: object"
      ]
     },
     "execution_count": 37,
     "metadata": {},
     "output_type": "execute_result"
    }
   ],
   "source": [
    "s.iloc[s.index.get_loc(s['wt'].idxmin())]"
   ]
  },
  {
   "cell_type": "markdown",
   "metadata": {},
   "source": [
    "### Question 4\n",
    "\n",
    "Find the mean of each row and each column in the given dataset.\n",
    "\n",
    "**Hint:** Use .mean() function. To operate on rows use **axis=0**, on columns use **axis=1**"
   ]
  },
  {
   "cell_type": "code",
   "execution_count": 38,
   "metadata": {},
   "outputs": [
    {
     "data": {
      "text/plain": [
       "mpg      20.090625\n",
       "cyl       6.187500\n",
       "disp    230.721875\n",
       "hp      146.687500\n",
       "drat      3.596563\n",
       "wt        3.217250\n",
       "qsec     17.848750\n",
       "vs        0.437500\n",
       "am        0.406250\n",
       "gear      3.687500\n",
       "carb      2.812500\n",
       "dtype: float64"
      ]
     },
     "execution_count": 38,
     "metadata": {},
     "output_type": "execute_result"
    }
   ],
   "source": [
    "s.mean()"
   ]
  },
  {
   "cell_type": "code",
   "execution_count": 39,
   "metadata": {},
   "outputs": [
    {
     "data": {
      "text/plain": [
       "name\n",
       "Mazda RX4              29.907273\n",
       "Mazda RX4 Wag          29.981364\n",
       "Datsun 710             23.598182\n",
       "Hornet 4 Drive         38.739545\n",
       "Hornet Sportabout      53.664545\n",
       "Valiant                35.049091\n",
       "Duster 360             59.720000\n",
       "Merc 240D              24.634545\n",
       "Merc 230               27.233636\n",
       "Merc 280               31.860000\n",
       "Merc 280C              31.787273\n",
       "Merc 450SE             46.430909\n",
       "Merc 450SL             46.500000\n",
       "Merc 450SLC            46.350000\n",
       "Cadillac Fleetwood     66.232727\n",
       "Lincoln Continental    66.058545\n",
       "Chrysler Imperial      65.972273\n",
       "Fiat 128               19.440909\n",
       "Honda Civic            17.742273\n",
       "Toyota Corolla         18.814091\n",
       "Toyota Corona          24.888636\n",
       "Dodge Challenger       47.240909\n",
       "AMC Javelin            46.007727\n",
       "Camaro Z28             58.752727\n",
       "Pontiac Firebird       57.379545\n",
       "Fiat X1-9              18.928636\n",
       "Porsche 914-2          24.779091\n",
       "Lotus Europa           24.880273\n",
       "Ford Pantera L         60.971818\n",
       "Ferrari Dino           34.508182\n",
       "Maserati Bora          63.155455\n",
       "Volvo 142E             26.262727\n",
       "dtype: float64"
      ]
     },
     "execution_count": 39,
     "metadata": {},
     "output_type": "execute_result"
    }
   ],
   "source": [
    "s.mean(axis=1)"
   ]
  },
  {
   "cell_type": "markdown",
   "metadata": {},
   "source": [
    "### Question 5\n",
    "\n",
    "Plot mpg values of mtcards dataframe using matplotlib.\n",
    "\n",
    "**Hint: Use plt.plot function**"
   ]
  },
  {
   "cell_type": "code",
   "execution_count": 47,
   "metadata": {},
   "outputs": [
    {
     "data": {
      "text/plain": [
       "name\n",
       "Mazda RX4              21.0\n",
       "Mazda RX4 Wag          21.0\n",
       "Datsun 710             22.8\n",
       "Hornet 4 Drive         21.4\n",
       "Hornet Sportabout      18.7\n",
       "Valiant                18.1\n",
       "Duster 360             14.3\n",
       "Merc 240D              24.4\n",
       "Merc 230               22.8\n",
       "Merc 280               19.2\n",
       "Merc 280C              17.8\n",
       "Merc 450SE             16.4\n",
       "Merc 450SL             17.3\n",
       "Merc 450SLC            15.2\n",
       "Cadillac Fleetwood     10.4\n",
       "Lincoln Continental    10.4\n",
       "Chrysler Imperial      14.7\n",
       "Fiat 128               32.4\n",
       "Honda Civic            30.4\n",
       "Toyota Corolla         33.9\n",
       "Toyota Corona          21.5\n",
       "Dodge Challenger       15.5\n",
       "AMC Javelin            15.2\n",
       "Camaro Z28             13.3\n",
       "Pontiac Firebird       19.2\n",
       "Fiat X1-9              27.3\n",
       "Porsche 914-2          26.0\n",
       "Lotus Europa           30.4\n",
       "Ford Pantera L         15.8\n",
       "Ferrari Dino           19.7\n",
       "Maserati Bora          15.0\n",
       "Volvo 142E             21.4\n",
       "Name: mpg, dtype: float64"
      ]
     },
     "execution_count": 47,
     "metadata": {},
     "output_type": "execute_result"
    }
   ],
   "source": [
    "s['mpg']"
   ]
  },
  {
   "cell_type": "code",
   "execution_count": 52,
   "metadata": {},
   "outputs": [],
   "source": [
    "s=pd.DataFrame(mtcars)"
   ]
  },
  {
   "cell_type": "code",
   "execution_count": 54,
   "metadata": {},
   "outputs": [
    {
     "data": {
      "text/plain": [
       "[<matplotlib.lines.Line2D at 0x11ee309e8>]"
      ]
     },
     "execution_count": 54,
     "metadata": {},
     "output_type": "execute_result"
    },
    {
     "data": {
      "image/png": "[encoded data removed]",
      "text/plain": [
       "<matplotlib.figure.Figure at 0x11ecf26d8>"
      ]
     },
     "metadata": {},
     "output_type": "display_data"
    }
   ],
   "source": [
    "plt.plot(s['mpg'])"
   ]
  },
  {
   "cell_type": "markdown",
   "metadata": {},
   "source": [
    "## Part 2"
   ]
  },
  {
   "cell_type": "markdown",
   "metadata": {},
   "source": [
    "## Measures of Dispersion"
   ]
  },
  {
   "cell_type": "markdown",
   "metadata": {},
   "source": [
    "Measures of Dispersion (Spread) are statistics that describe how data varies. Measure of dispersion gives us the sense of how much the data tends to diverge from the central tendency."
   ]
  },
  {
   "cell_type": "markdown",
   "metadata": {},
   "source": [
    "### Question 6\n",
    "\n",
    "What the range of `mpg` in the given dataset?\n",
    "\n",
    "**Hint:** Range = max-min"
   ]
  },
  {
   "cell_type": "code",
   "execution_count": 50,
   "metadata": {},
   "outputs": [
    {
     "data": {
      "text/plain": [
       "23.5"
      ]
     },
     "execution_count": 50,
     "metadata": {},
     "output_type": "execute_result"
    }
   ],
   "source": [
    "max(s['mpg'])-min(s['mpg'])"
   ]
  },
  {
   "cell_type": "markdown",
   "metadata": {},
   "source": [
    "### Question 7\n",
    "\n",
    "Calculate the 25th quantile (lower quantile)for `mpg` in the given dataset.\n",
    "\n",
    "**Hint:** Use **.quantile()**"
   ]
  },
  {
   "cell_type": "code",
   "execution_count": 56,
   "metadata": {},
   "outputs": [
    {
     "data": {
      "text/plain": [
       "15.425"
      ]
     },
     "execution_count": 56,
     "metadata": {},
     "output_type": "execute_result"
    }
   ],
   "source": [
    "s['mpg'].quantile(q=0.25)"
   ]
  },
  {
   "cell_type": "markdown",
   "metadata": {},
   "source": [
    "### Question 8\n",
    "\n",
    "Calculate the Inter-Quartile Range(IQR) for `mpg` in the given dataset."
   ]
  },
  {
   "cell_type": "markdown",
   "metadata": {},
   "source": [
    "Interquartile range (IQR) is another common measure of spread. IQR is the distance between the 3rd quartile and the 1st quartile.\n",
    "\n",
    "**Hint:** IQR = Q3 - Q1"
   ]
  },
  {
   "cell_type": "code",
   "execution_count": 57,
   "metadata": {},
   "outputs": [
    {
     "data": {
      "text/plain": [
       "7.375"
      ]
     },
     "execution_count": 57,
     "metadata": {},
     "output_type": "execute_result"
    }
   ],
   "source": [
    "s['mpg'].quantile(q=0.75)-s['mpg'].quantile(q=0.25)"
   ]
  },
  {
   "cell_type": "markdown",
   "metadata": {},
   "source": [
    "### Question 9\n",
    "\n",
    "Calculate the Variance, Standard Deviation and Median Absolute Deviation for `mpg`."
   ]
  },
  {
   "cell_type": "markdown",
   "metadata": {},
   "source": [
    "Variance and Standard Deviation are two other common measure of dispersion.\n",
    "\n",
    "**Hint:** Use .var() and .std()"
   ]
  },
  {
   "cell_type": "markdown",
   "metadata": {},
   "source": [
    "**Hint:** Median Absolute Deviation - alternative measure of spread based on the median. It is the median of the absolute value of the deviations from the median. "
   ]
  },
  {
   "cell_type": "code",
   "execution_count": 58,
   "metadata": {},
   "outputs": [
    {
     "data": {
      "text/plain": [
       "36.32410282258065"
      ]
     },
     "execution_count": 58,
     "metadata": {},
     "output_type": "execute_result"
    }
   ],
   "source": [
    "s['mpg'].var()"
   ]
  },
  {
   "cell_type": "code",
   "execution_count": 59,
   "metadata": {},
   "outputs": [
    {
     "data": {
      "text/plain": [
       "6.026948052089105"
      ]
     },
     "execution_count": 59,
     "metadata": {},
     "output_type": "execute_result"
    }
   ],
   "source": [
    "s['mpg'].std()"
   ]
  },
  {
   "cell_type": "code",
   "execution_count": 60,
   "metadata": {},
   "outputs": [
    {
     "data": {
      "text/plain": [
       "4.714453125"
      ]
     },
     "execution_count": 60,
     "metadata": {},
     "output_type": "execute_result"
    }
   ],
   "source": [
    "s['mpg'].mad()"
   ]
  },
  {
   "cell_type": "markdown",
   "metadata": {},
   "source": [
    "## Part 3"
   ]
  },
  {
   "cell_type": "markdown",
   "metadata": {},
   "source": [
    "## Probability Distributions"
   ]
  },
  {
   "cell_type": "markdown",
   "metadata": {},
   "source": [
    "The probability distribution describes how a random variable is distributed. It tells us which values a variable is most likely to take on and which values are less likely to take on. "
   ]
  },
  {
   "cell_type": "markdown",
   "metadata": {},
   "source": [
    "Each value in the given range is equally likely to occur. "
   ]
  },
  {
   "cell_type": "code",
   "execution_count": 61,
   "metadata": {},
   "outputs": [],
   "source": [
    "import scipy.stats as stats # Many functions for probability distributions in python are in scipy.stats"
   ]
  },
  {
   "cell_type": "markdown",
   "metadata": {},
   "source": [
    "### Question 10\n",
    "\n",
    "Generate 1000 datapoints with standard normal distribution with mean 0 and standard deviation 1. "
   ]
  },
  {
   "cell_type": "markdown",
   "metadata": {},
   "source": [
    "#### Normal Distribution"
   ]
  },
  {
   "cell_type": "markdown",
   "metadata": {},
   "source": [
    "The normal or Gaussian Distribution is a continuos probability distribution given by a symmetric bell shaped curve. It is defined its center(mean) and spread(std)."
   ]
  },
  {
   "cell_type": "markdown",
   "metadata": {},
   "source": [
    "The bulk of the observations generated from a normal distribution lie near the mean which lies at the center. About 68% of the data lies within 1 std, 95% lies within 2 stds and 99.7% lies within 3 stds.\n",
    "\n",
    "**Hint:** You can use **np.random.normal()** function to generate normal distribution"
   ]
  },
  {
   "cell_type": "code",
   "execution_count": 63,
   "metadata": {},
   "outputs": [
    {
     "data": {
      "text/plain": [
       "array([-9.91775233e-01,  7.50725667e-01, -1.88219880e+00,  8.83533239e-01,\n",
       "        1.63898207e+00,  1.22423900e-01, -8.09292081e-01, -3.03135996e-01,\n",
       "        1.81837885e+00,  4.18745247e-01,  1.14215610e-01,  1.08268249e+00,\n",
       "       -1.41593613e+00,  5.91982482e-01, -1.19212750e+00,  8.83001506e-03,\n",
       "        7.84319598e-01, -5.77680369e-01, -1.19957605e+00,  1.21023115e-01,\n",
       "       -5.31273460e-01,  9.09531582e-02,  1.19290666e+00, -1.04937685e+00,\n",
       "       -3.86304134e-01,  6.13868146e-01,  7.85719027e-01, -3.69869568e-01,\n",
       "       -5.57296710e-01, -1.55451851e+00,  1.92883817e-01, -2.77814834e-01,\n",
       "        8.81312448e-01,  2.88208361e-01, -1.30714881e-01,  7.62310587e-01,\n",
       "        7.91587227e-01, -9.48238694e-01, -1.55471394e+00,  1.11524375e+00,\n",
       "       -5.57924871e-01, -5.65813195e-01,  5.46766903e-02, -7.97653968e-03,\n",
       "       -1.76161386e+00, -4.28037004e-01,  3.95656577e-01,  5.50774384e-01,\n",
       "        1.98532310e-01,  1.52556765e+00,  3.37553975e-01, -1.48591631e+00,\n",
       "        3.74658499e-01, -5.40447111e-01, -1.06925511e+00,  1.57867497e-01,\n",
       "       -1.41077288e+00,  3.60070923e-02, -7.54855934e-01,  3.97351521e-03,\n",
       "        7.05057201e-01, -1.33709768e+00, -3.47641007e-02,  2.98129880e+00,\n",
       "        2.75771204e+00, -1.16086202e+00,  1.12215213e+00,  8.02292613e-01,\n",
       "       -6.05831385e-01,  4.17935768e-01,  6.65382620e-02,  2.17460233e-01,\n",
       "       -1.41184588e+00,  1.05404701e+00, -8.06221715e-01, -1.01082075e+00,\n",
       "        4.17259309e-01, -2.17349682e-01, -1.02218357e+00,  8.64424494e-01,\n",
       "       -5.29091779e-01, -1.34548551e+00, -2.86568838e-01, -6.37704932e-02,\n",
       "        1.26767181e+00,  4.16502098e-01,  1.93356025e-01,  2.22358437e-01,\n",
       "       -1.11316563e+00, -1.58042082e-01, -2.21321074e-01, -2.45359623e-01,\n",
       "        2.50501874e-01, -1.32082704e+00, -8.62905690e-03, -6.81439575e-01,\n",
       "        4.20858083e-01, -6.33922367e-01, -1.74442674e+00,  1.32030147e+00,\n",
       "        7.49092178e-01, -2.06481651e-01, -1.22176067e-02,  8.06011727e-02,\n",
       "       -1.18167286e+00, -3.47643538e-01,  4.44054602e-01, -2.67598676e+00,\n",
       "       -6.40662116e-01,  1.34037579e-01,  2.42240151e-01, -8.27688458e-01,\n",
       "       -1.02856464e+00,  8.57102782e-01, -2.59971264e+00,  1.40882839e+00,\n",
       "       -1.31536984e-01,  1.11182819e+00, -9.92972477e-01,  1.37634337e-01,\n",
       "       -2.56609136e-02, -2.24706026e-01,  5.47471838e-01, -1.08531988e-01,\n",
       "       -1.22908698e+00,  2.19655827e-01, -7.05222977e-01,  1.42626686e+00,\n",
       "       -4.64851272e-01,  9.75405288e-01, -4.71980829e-01, -1.62773402e-01,\n",
       "       -2.03601174e-01, -1.51566356e+00, -1.61736485e+00, -1.89063789e+00,\n",
       "       -2.49944939e-01, -6.46990310e-01, -7.43856198e-01,  1.37117346e+00,\n",
       "       -5.78934193e-01,  1.45606853e+00, -1.88508611e-01,  1.13829531e-01,\n",
       "       -7.26476642e-01,  4.80342871e-02,  1.56682432e-01, -6.07442893e-01,\n",
       "        5.81089286e-02,  9.13585062e-02,  7.54874852e-01,  1.82343307e+00,\n",
       "       -3.16671594e-02,  2.97927753e-01,  2.95756687e-01, -1.48917901e+00,\n",
       "       -5.20283571e-01,  4.29568273e-02, -1.16765689e+00, -7.43344790e-01,\n",
       "       -1.95643513e+00, -2.06914442e-01, -5.60927714e-01,  1.55097186e+00,\n",
       "        9.50182068e-01, -6.53405575e-01,  1.50572788e+00,  2.51057580e-01,\n",
       "       -6.63023667e-01,  1.14664829e+00, -1.97816778e+00,  1.73886985e+00,\n",
       "        5.17985969e-01, -6.97230007e-01,  9.35084724e-01, -8.84028787e-01,\n",
       "       -7.82019216e-01, -1.30688229e+00, -9.56234195e-01, -1.75436692e+00,\n",
       "        2.59200181e-02, -1.01790873e+00,  1.55074546e+00, -7.75149800e-01,\n",
       "       -7.81716948e-01,  4.89505595e-01, -7.76416105e-01, -8.52969577e-03,\n",
       "       -1.30197997e-01, -4.16443579e-01, -6.89380607e-01,  2.32782398e-01,\n",
       "       -1.10962494e-01,  3.12220625e-01,  3.02957710e-01,  1.72791590e-01,\n",
       "        5.69876423e-03, -7.17983349e-01, -2.72179620e-01, -1.85876581e+00,\n",
       "        1.02635270e+00,  8.44805598e-01, -8.26439442e-03, -1.34259714e-01,\n",
       "       -2.17821976e-01,  2.19905057e+00, -2.36769797e-01,  1.70889644e+00,\n",
       "        6.18956080e-01,  9.40280582e-01, -1.44357710e+00,  3.04430348e-01,\n",
       "       -8.79380703e-01, -2.91243031e-03,  7.57522915e-01, -6.48416499e-02,\n",
       "       -1.77270840e+00, -1.98173112e-01,  6.90631642e-01,  1.71026005e-01,\n",
       "       -6.81146295e-01, -5.61704809e-01,  1.89815442e-01, -1.14884076e+00,\n",
       "       -5.36778188e-01, -1.27160915e+00, -5.85455589e-01,  1.43588438e+00,\n",
       "       -2.79173167e+00, -1.42374742e-01, -2.61646566e-01,  1.45095846e+00,\n",
       "        2.12867817e-01, -1.47587392e+00, -1.33628492e-01,  3.55412424e-02,\n",
       "        4.97409181e-01,  4.72263307e-01,  1.18171559e+00, -1.18129198e-01,\n",
       "        2.09977959e+00, -1.94534747e+00,  7.69300122e-01, -4.42975979e-01,\n",
       "       -8.21110183e-01,  3.38705227e-01,  1.09170069e+00, -1.16521054e-01,\n",
       "       -9.79134984e-01,  8.73796312e-01,  1.45412533e+00,  2.82737029e-01,\n",
       "        3.71370148e-01,  2.31507633e+00, -6.67789929e-01, -1.19117005e+00,\n",
       "       -2.14937968e-01,  6.24664427e-01,  3.97597367e-01,  1.36695964e-01,\n",
       "        1.14063785e+00, -2.03170689e-01,  1.12367430e-02, -5.35302880e-01,\n",
       "        1.37484205e+00, -1.17608885e+00,  1.99693817e+00,  4.22395169e-01,\n",
       "        6.69495792e-01, -2.63391773e-01,  2.04188729e+00,  4.35434084e-02,\n",
       "        7.65761506e-01, -9.96819841e-02,  1.65136622e+00,  6.53486773e-01,\n",
       "       -5.73391978e-02,  1.19837459e+00, -2.12546765e+00, -5.01206078e-01,\n",
       "        7.40469015e-01, -5.35797161e-01, -2.27961031e+00, -1.06995378e+00,\n",
       "        6.99731382e-01,  1.23809112e+00,  1.47189076e+00, -2.63107553e-01,\n",
       "        2.28282000e-01, -7.04043076e-01,  1.01945736e+00,  1.58200606e-01,\n",
       "       -1.03414561e+00,  3.11887459e-01,  1.00517975e+00,  6.63495640e-01,\n",
       "        4.97341462e-01, -5.64433384e-01,  1.25774670e+00,  4.57565579e-01,\n",
       "       -1.88338999e+00, -1.74621236e+00,  2.90576418e-01,  5.82714657e-01,\n",
       "        1.12408111e+00,  3.93032625e-01, -1.67434303e-01, -3.33975015e-01,\n",
       "        1.75541605e-01, -6.68692712e-01, -1.16565317e+00,  5.56879337e-01,\n",
       "        7.91611425e-01, -8.24717638e-01, -4.73830308e-01, -6.44344925e-01,\n",
       "       -2.67720436e-01, -3.26763332e-01, -7.55379313e-01,  6.38894723e-01,\n",
       "        9.08788865e-01,  8.06487542e-01, -1.34585187e+00,  1.19277984e+00,\n",
       "       -7.25573128e-03, -7.60351700e-01,  8.27728822e-02, -2.49357142e-01,\n",
       "       -1.25879156e+00, -6.46226915e-01,  9.80591971e-01,  4.96668991e-01,\n",
       "       -8.68402950e-01, -5.74611124e-01,  1.70681725e+00, -9.41266787e-01,\n",
       "       -6.50188375e-01, -7.64091321e-01,  6.54074552e-01,  6.03213291e-01,\n",
       "       -1.51583691e+00,  1.66021482e+00, -3.76550563e-01,  2.98104634e-01,\n",
       "       -1.83769529e+00,  9.00025160e-01, -1.68831389e+00, -1.52798307e+00,\n",
       "        6.63491231e-01,  2.35965548e-01,  7.05650741e-01,  6.68688769e-01,\n",
       "       -3.14493418e-01, -1.00295900e+00,  6.71903645e-01,  2.81553566e-01,\n",
       "        1.28016568e+00, -2.04408759e-01,  4.51647702e-01, -3.22517593e-01,\n",
       "        1.20647822e+00,  1.34854598e-01, -1.04135682e+00, -1.51662863e-01,\n",
       "        3.26547789e-01, -7.27615189e-01,  1.53165464e+00,  4.83378041e-01,\n",
       "       -1.60207457e+00, -1.79113133e-01, -1.12626060e+00,  6.71507098e-01,\n",
       "        9.13912851e-01, -5.87953275e-01, -4.33781739e-01,  7.54287907e-01,\n",
       "        2.62222260e+00, -6.75808794e-01,  4.67317774e-02, -5.07103075e-01,\n",
       "       -5.36379069e-01, -1.43914704e+00,  8.35585570e-01,  2.06206557e-01,\n",
       "       -4.83317127e-01,  7.66284545e-01, -1.17706452e+00,  1.39068368e+00,\n",
       "        2.36339417e+00,  5.40678772e-01,  9.47996880e-01,  7.78761828e-01,\n",
       "       -1.10733271e+00,  2.04104973e+00, -5.03191262e-01,  1.80714763e+00,\n",
       "        2.87617550e-01,  2.54630756e-01, -1.97529164e+00,  5.60004711e-01,\n",
       "       -9.04568961e-01,  8.33898478e-01,  8.33909615e-01, -1.82619396e+00,\n",
       "        4.68848562e-02,  1.08999056e+00, -1.52112519e+00, -7.61333210e-01,\n",
       "        8.59584965e-01,  1.87894226e+00, -3.00856017e-01,  8.76831050e-01,\n",
       "        3.07531289e-01,  1.31183512e+00, -8.03870291e-01, -1.15044755e+00,\n",
       "        4.28188420e-01, -1.54813299e+00,  8.97515910e-02, -4.85700185e-01,\n",
       "       -1.10919925e+00, -1.45721099e+00,  1.48548513e-01, -1.63006087e+00,\n",
       "        8.32269935e-01,  1.32326701e+00,  2.15735813e+00,  5.23061412e-01,\n",
       "       -7.78900492e-01,  1.33728567e+00,  5.83639921e-02,  4.57084667e-01,\n",
       "        7.86844015e-01, -3.37168363e-01, -4.44843780e-01, -1.59757754e+00,\n",
       "        1.49085786e+00, -1.37577223e-01, -1.00334713e+00,  1.36180964e-01,\n",
       "        3.88390240e-01,  9.07271539e-02,  1.04822521e+00, -1.17878911e+00,\n",
       "        1.85757357e+00, -3.78235379e-01, -1.08520888e+00,  2.29825199e-01,\n",
       "       -7.32022791e-01, -1.79937858e-01,  2.79446293e-01, -1.57573929e-01,\n",
       "       -1.09314099e+00,  1.04663144e+00, -1.00927035e-01,  3.51391899e-01,\n",
       "       -2.46811512e+00, -3.88086277e-01, -1.90224571e-01, -5.54885762e-01,\n",
       "       -3.89737852e-01, -1.80810750e+00, -4.14171365e-01, -9.89006203e-01,\n",
       "       -2.11298897e-01,  1.33267942e+00, -1.03056123e+00, -7.11996896e-01,\n",
       "        3.64730220e-01,  1.03982114e+00, -5.16374583e-01, -5.83108148e-01,\n",
       "        1.40459946e-01, -9.04175134e-01, -3.49996271e-01,  2.25403955e+00,\n",
       "       -9.31762942e-01, -6.27729778e-01, -1.41194886e-01,  3.50765613e-01,\n",
       "       -5.18194092e-01,  2.06898765e-01, -1.96957385e+00, -5.81258929e-01,\n",
       "       -4.82834866e-01, -9.08030235e-01,  6.45123132e-01, -1.86855116e+00,\n",
       "        9.36554300e-01,  1.02409021e+00,  1.25080250e+00,  3.27799535e-03,\n",
       "        6.95277059e-01, -5.28588202e-01, -9.44450458e-01, -5.25871283e-01,\n",
       "       -5.64778279e-01, -1.68279796e-02, -7.76551285e-01, -2.45728335e-02,\n",
       "       -5.10875086e-01,  1.38142141e+00, -3.77432702e-02,  7.97142398e-01,\n",
       "        2.10280296e+00, -2.00827434e-01,  2.25990030e+00,  7.81186753e-01,\n",
       "       -1.12769120e+00, -2.65511554e-01, -2.10183794e+00, -4.82134437e-02,\n",
       "       -1.16949052e+00,  1.26284919e+00,  1.85725692e+00,  8.40008298e-01,\n",
       "       -2.34813324e-03,  1.08273105e+00,  4.33889364e-02,  9.11622403e-01,\n",
       "        4.76393208e-01,  1.13933386e+00,  3.13746303e-01, -9.70165923e-01,\n",
       "        1.11597355e+00,  1.38117988e+00, -6.81986316e-01, -1.10092456e-01,\n",
       "       -7.10263597e-01, -2.60879079e+00,  1.78769660e+00, -7.48283610e-01,\n",
       "        1.60794197e+00,  6.18580745e-02,  5.50994065e-01, -8.63970087e-01,\n",
       "       -1.03520856e+00,  9.27258139e-02, -1.11241831e+00,  1.16288161e-01,\n",
       "        1.92287587e-01, -1.00814636e+00,  5.84304004e-01,  1.37935799e+00,\n",
       "        1.64602203e+00, -6.37579228e-01, -3.64553073e-01, -1.43137562e-01,\n",
       "       -9.74215252e-01, -1.59760273e+00, -7.70489277e-01,  9.72650144e-01,\n",
       "        8.59245926e-01,  1.56887883e-01,  6.12732127e-01,  2.54992075e-01,\n",
       "       -8.63508681e-01, -8.07027992e-01, -2.45393211e+00,  5.06367548e-01,\n",
       "        2.76502309e-01, -1.15284941e-01,  1.09538136e+00, -1.02717333e+00,\n",
       "       -1.57890174e-02,  1.60475096e-01, -1.01817111e+00, -6.36431622e-01,\n",
       "        2.19910080e+00, -1.32883142e+00, -1.46579946e+00, -1.76892319e+00,\n",
       "        4.63715274e-01,  3.64943168e-01, -2.57756657e+00, -6.08141761e-01,\n",
       "        6.11150424e-01, -1.05784138e+00, -7.58099197e-01,  7.93215066e-01,\n",
       "        6.18457891e-01, -1.09617608e+00,  3.62758029e-02,  6.34409016e-01,\n",
       "       -1.01891424e-01,  1.46272151e+00,  4.32234664e-01,  3.37548926e-01,\n",
       "       -5.57164945e-01, -1.68881843e+00, -6.31723513e-01,  7.77731165e-01,\n",
       "       -1.96331483e-01, -1.73794307e+00, -9.99192747e-01,  3.97586572e-01,\n",
       "       -1.57797194e-02, -1.18408270e+00,  7.11376416e-01, -2.83294385e-01,\n",
       "        1.96943390e-02,  6.07288577e-01,  1.78277387e+00,  1.16163651e+00,\n",
       "        1.77321509e-01,  1.32166712e+00, -1.15696111e+00,  1.08092115e+00,\n",
       "        1.54694335e+00, -4.73273604e-01,  9.69721884e-01,  1.21806416e+00,\n",
       "       -5.31060904e-01, -4.24546449e-01,  9.86818268e-01, -6.26242321e-01,\n",
       "        6.70990685e-03,  1.34573787e+00, -7.92192348e-01, -4.84376323e-01,\n",
       "        1.48000222e+00, -1.46533095e+00, -9.57716916e-02,  6.63999426e-01,\n",
       "       -1.80654956e+00, -3.95450753e-01, -8.71125320e-02, -1.16002492e+00,\n",
       "        1.02561718e+00, -3.98971438e-01, -1.22632725e-01,  5.13816727e-02,\n",
       "       -5.67852886e-01,  8.83049532e-01, -7.98887961e-01,  1.04004603e+00,\n",
       "       -1.27993455e+00, -6.14269738e-01,  1.07504451e-02, -1.72810077e+00,\n",
       "       -3.11492524e-01,  5.34820520e-01, -1.09488249e+00, -2.44857885e-01,\n",
       "       -1.30266829e+00, -1.60944315e+00,  2.37060602e-01, -4.91652508e-01,\n",
       "       -6.10674787e-01,  4.37585413e-01, -1.54566119e-01,  1.12482489e+00,\n",
       "       -2.00136265e+00, -5.37449458e-01, -1.26827751e+00, -7.92920621e-02,\n",
       "        5.47370993e-01,  7.51366847e-01, -5.33887022e-01,  2.48100777e-01,\n",
       "        9.43911489e-01,  1.42965643e-01, -3.40320780e-02,  6.01463053e-02,\n",
       "       -1.17957071e-01, -6.94080035e-01,  7.45301676e-01, -2.26379360e-01,\n",
       "        9.29953470e-01,  1.70191227e+00, -1.73644954e+00, -2.38535513e-01,\n",
       "       -1.33223123e+00,  9.55792812e-02, -2.31221203e-02, -8.54651039e-01,\n",
       "       -1.31763041e+00,  4.90390466e-01,  6.61845256e-01, -1.32835265e+00,\n",
       "        7.30529763e-01, -9.14683201e-01,  4.88765219e-01,  3.26670849e-01,\n",
       "       -1.53082357e+00,  5.54950079e-02,  5.60990810e-01, -2.61690474e-01,\n",
       "        1.05123655e+00,  1.72707673e+00, -8.57462241e-01, -7.28867422e-01,\n",
       "       -8.44559094e-01, -3.69637402e-01,  8.09188351e-01, -2.98732805e+00,\n",
       "        9.84212818e-01, -8.46319563e-01, -2.94296738e-01,  1.66346871e+00,\n",
       "        7.29318713e-01, -1.21788740e-01, -3.10040522e+00, -1.38715542e+00,\n",
       "       -2.14363404e+00,  1.90825674e+00, -3.60983217e-01,  1.45427789e-01,\n",
       "        6.26600114e-01,  7.52119344e-01,  9.44025914e-01,  1.27060408e+00,\n",
       "        3.45888193e-01, -1.25651537e+00,  1.32178245e+00,  1.10602294e+00,\n",
       "       -6.01563247e-01, -1.44458007e+00, -3.86485728e-01,  3.42704521e-01,\n",
       "        4.47543027e-01, -2.04477329e+00,  4.39069933e-01,  9.68907670e-01,\n",
       "        6.07538604e-01,  8.14793115e-02,  2.85910450e+00,  1.43906374e-01,\n",
       "        6.48388133e-01, -6.69729629e-01,  7.45418367e-02,  4.95393185e-02,\n",
       "        6.19216062e-01, -3.36893562e-01,  5.43501005e-01,  1.20011460e+00,\n",
       "        8.12669861e-01,  2.35093744e-01,  5.86085083e-02, -3.95192800e-01,\n",
       "       -1.59673763e-01,  7.61104263e-04,  1.05251705e+00, -1.66340187e+00,\n",
       "       -2.74073466e-01,  1.13418364e+00,  1.45357620e+00,  2.10592539e+00,\n",
       "        1.58670717e+00,  8.66541945e-01, -6.35355703e-01,  1.09243253e+00,\n",
       "       -4.79482927e-01,  4.89131342e-01,  1.04270442e+00,  1.75995655e+00,\n",
       "       -7.16374546e-01, -7.56810983e-01, -1.52910328e+00,  1.08346828e+00,\n",
       "        1.15894411e+00,  4.59472520e-01,  2.99889747e-01, -7.33097245e-01,\n",
       "        1.01060670e+00,  9.72300861e-01,  1.93671102e-02, -6.29147365e-01,\n",
       "        8.32096871e-01,  1.31577804e+00, -7.61425944e-01,  7.32757778e-01,\n",
       "        1.06889080e+00,  6.55258806e-01, -4.22252774e-01, -6.53502694e-01,\n",
       "        4.86885589e-01,  1.55753360e+00, -6.18710706e-01, -5.46208736e-01,\n",
       "       -1.19632669e+00, -9.68995190e-01, -4.71709863e-01,  6.19046912e-01,\n",
       "        4.21571346e-01, -7.65709805e-01, -9.18776988e-01,  3.17809198e-01,\n",
       "        1.43636267e+00,  4.82753385e-01,  5.07735884e-01,  1.11259009e+00,\n",
       "        7.39114394e-01,  4.08966485e-01,  1.02224829e+00,  1.39091052e+00,\n",
       "       -8.06705737e-02,  9.31778195e-02, -3.76479016e-01, -1.27174490e+00,\n",
       "       -1.12517723e-01, -5.86174004e-01, -8.33694109e-01, -2.81951532e-01,\n",
       "        3.20841715e-01,  7.57994663e-01,  8.98242452e-01, -1.44726058e+00,\n",
       "        1.45260366e+00, -7.69403893e-01,  1.35237291e-01, -7.13081048e-01,\n",
       "        7.19915362e-01, -1.17422568e+00,  4.99110567e-01,  8.19801029e-01,\n",
       "       -2.06897564e+00,  1.46192118e+00, -3.33370146e-01,  1.65319866e+00,\n",
       "        1.24540716e+00,  7.07687220e-01,  3.97714825e-02, -6.70629436e-01,\n",
       "        8.56693930e-01,  4.59548997e-02, -1.74964017e+00, -1.49742078e+00,\n",
       "        8.57140970e-01,  1.06461481e+00,  3.48932208e-01,  6.90848462e-01,\n",
       "        1.54756411e-01,  1.94929156e+00,  1.05575013e+00,  1.31264196e+00,\n",
       "        1.14441509e+00, -3.68254543e-01,  9.80690366e-01,  1.35702622e+00,\n",
       "       -6.86321738e-01, -3.16580470e-01, -2.33491166e+00,  7.57881462e-01,\n",
       "        8.14181388e-01,  6.28142520e-01, -5.83459640e-01,  2.88726404e+00,\n",
       "        4.68307387e-01, -7.50879615e-01,  9.71106214e-01, -3.77715807e-01,\n",
       "        1.16991179e+00, -4.42929617e-02,  2.20709790e-01, -1.11950011e-01,\n",
       "        1.07872969e+00, -7.13912667e-01, -4.14008331e-01, -2.69985365e-01,\n",
       "        6.40716119e-01, -1.27399655e+00, -7.16342625e-01,  9.47095664e-03,\n",
       "       -1.72791461e-01, -7.73252195e-01,  7.45884982e-01, -1.94349400e-01,\n",
       "       -9.50203626e-01, -6.87189641e-01,  5.32926720e-01,  9.80853128e-01,\n",
       "       -1.08910406e+00, -8.41034604e-01,  8.66790623e-02,  1.04709719e+00,\n",
       "       -6.77441904e-01,  1.10888062e+00,  5.05459201e-01,  8.47678223e-01,\n",
       "       -9.74084119e-01, -4.84361692e-02, -1.62837927e+00, -1.79488888e+00,\n",
       "       -1.04419660e+00,  9.89012632e-01,  7.86144316e-01,  5.10821831e-01,\n",
       "        7.28492240e-01,  6.23234392e-02,  6.08693591e-01,  9.70055495e-01,\n",
       "       -4.06898800e-01,  2.82168449e+00,  9.93677181e-01,  5.63122333e-01,\n",
       "        9.86061117e-01,  1.72410977e+00, -1.44601635e+00,  1.47693070e+00,\n",
       "       -3.81100951e-01,  6.08686760e-01,  1.00398336e+00, -9.33048099e-01,\n",
       "        7.96593983e-01, -2.00393856e-03,  1.24201689e+00, -7.83377527e-01,\n",
       "        1.50916096e-01, -1.99541624e+00,  1.07572041e-01,  1.83254296e+00,\n",
       "        1.03912003e+00,  2.58774544e-01,  3.41490177e-01, -6.77925329e-01,\n",
       "       -1.35342011e+00,  4.48652730e-01,  2.95707318e+00, -1.38832831e+00,\n",
       "        1.07458307e-02,  5.23211426e-01, -1.43192877e-01,  5.41115529e-01,\n",
       "       -2.14919643e-01,  2.59043916e-01,  8.94172721e-02,  1.22681210e+00,\n",
       "        1.31463699e-01, -1.42303952e-01,  2.90147846e+00,  2.19507924e-01,\n",
       "        1.99639652e+00, -6.10037576e-01, -7.94942944e-01, -1.18605332e+00,\n",
       "        4.30150541e-02,  1.07166551e+00, -1.00068592e-01,  1.66047305e-01,\n",
       "       -3.92642146e-01, -4.78294117e-01,  1.55725773e+00,  9.67421400e-02,\n",
       "       -5.60504905e-01, -9.30507592e-01, -1.55907137e+00, -4.88371953e-01,\n",
       "        6.96761982e-01, -1.27794476e+00, -3.11214985e-01,  1.17423518e+00,\n",
       "       -1.95434409e-01, -4.29429575e-01,  7.79743622e-04, -2.19984849e+00,\n",
       "        1.04920390e+00,  1.63826857e+00,  1.37416050e+00,  1.84396544e-03,\n",
       "        3.30385204e-01, -1.04354472e-01, -1.58690886e+00,  7.18294163e-01,\n",
       "        1.21435007e+00,  1.03770902e+00, -9.22885344e-01, -1.82966593e+00,\n",
       "        7.57432874e-01, -5.67200636e-01, -6.30573350e-01, -5.08729048e-01,\n",
       "       -2.47044498e-01, -1.77451407e+00, -2.16459523e-01,  2.86148361e-01,\n",
       "       -6.16364683e-01,  1.50332208e+00, -1.14146971e+00, -1.39095255e+00,\n",
       "       -2.61836814e+00,  5.54182558e-02, -3.77889248e-01,  7.71299847e-01,\n",
       "       -7.59069464e-01, -5.85478698e-01, -6.37760050e-01,  9.59168936e-01,\n",
       "        9.23072356e-01, -6.46361665e-01, -1.62386765e-01,  9.80091411e-01,\n",
       "        1.41896113e+00,  1.24393695e+00,  1.65209005e+00, -2.90479171e-01,\n",
       "        3.64213715e-01,  2.10607471e-01, -8.70145458e-01, -1.16396541e-01])"
      ]
     },
     "execution_count": 63,
     "metadata": {},
     "output_type": "execute_result"
    }
   ],
   "source": [
    "np.random.normal(size=1000)"
   ]
  },
  {
   "cell_type": "markdown",
   "metadata": {},
   "source": [
    "## Question 11\n",
    "\n",
    "Generate binomial distribution data for fair coin flipping of size 100. Assume `0` for head and `1` for tail.\n",
    "\n",
    "[ **Hint:** For fair coin flip `p=0.5` ]"
   ]
  },
  {
   "cell_type": "markdown",
   "metadata": {},
   "source": [
    "#### Binomial Distribution"
   ]
  },
  {
   "cell_type": "markdown",
   "metadata": {},
   "source": [
    "It is defined by 2 parameters: the probability of success and the number of trails. It tells about how likely it is possible to get a given number of successes in n trails."
   ]
  },
  {
   "cell_type": "code",
   "execution_count": 65,
   "metadata": {},
   "outputs": [
    {
     "data": {
      "text/plain": [
       "array([62, 49, 49, 52, 50, 57, 54, 46, 41, 42, 48, 49, 58, 47, 62, 49, 52,\n",
       "       49, 46, 48, 44, 50, 58, 48, 51, 44, 44, 44, 56, 54, 48, 46, 59, 46,\n",
       "       53, 54, 36, 44, 58, 50, 40, 52, 49, 49, 54, 59, 53, 44, 55, 54, 54,\n",
       "       51, 45, 51, 53, 53, 49, 55, 49, 47, 56, 51, 43, 50, 57, 58, 51, 55,\n",
       "       56, 42, 44, 38, 52, 50, 35, 46, 57, 61, 49, 54, 43, 52, 50, 48, 56,\n",
       "       49, 48, 54, 44, 50, 48, 52, 51, 54, 45, 53, 46, 54, 51, 42])"
      ]
     },
     "execution_count": 65,
     "metadata": {},
     "output_type": "execute_result"
    }
   ],
   "source": [
    "np.random.binomial(100,0.5,size=100)"
   ]
  },
  {
   "cell_type": "markdown",
   "metadata": {},
   "source": [
    "#### Visualizing Poisson Distribution"
   ]
  },
  {
   "cell_type": "markdown",
   "metadata": {},
   "source": [
    "It models the probability of seeing certain number of successes within a time interval."
   ]
  },
  {
   "cell_type": "code",
   "execution_count": 133,
   "metadata": {},
   "outputs": [
    {
     "data": {
      "image/png": "[encoded data removed]",
      "text/plain": [
       "<matplotlib.figure.Figure at 0x7f7c10ffbe90>"
      ]
     },
     "metadata": {},
     "output_type": "display_data"
    }
   ],
   "source": [
    "poisson_data = stats.poisson.rvs(size=100,mu=10)\n",
    "\n",
    "pd.DataFrame(poisson_data).hist()\n",
    "\n",
    "plt.show()"
   ]
  }
 ],
 "metadata": {
  "kernelspec": {
   "display_name": "Python 3",
   "language": "python",
   "name": "python3"
  },
  "language_info": {
   "codemirror_mode": {
    "name": "ipython",
    "version": 3
   },
   "file_extension": ".py",
   "mimetype": "text/x-python",
   "name": "python",
   "nbconvert_exporter": "python",
   "pygments_lexer": "ipython3",
   "version": "3.6.4"
  }
 },
 "nbformat": 4,
 "nbformat_minor": 2
}
